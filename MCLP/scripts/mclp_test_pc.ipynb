{
 "cells": [
  {
   "cell_type": "code",
   "execution_count": null,
   "metadata": {},
   "outputs": [],
   "source": [
    "import warnings\n",
    "import numpy as np\n",
    "import pandas as pd\n",
    "import matplotlib.pyplot as plt\n",
    "from matplotlib import cm\n",
    "import networkx as nx\n",
    "import osmnx as ox\n",
    "import geopandas as gpd\n",
    "import networkx as nx"
   ]
  },
  {
   "cell_type": "markdown",
   "metadata": {},
   "source": []
  },
  {
   "cell_type": "code",
   "execution_count": null,
   "metadata": {},
   "outputs": [],
   "source": [
    "#load in the hospital sites data to be used to score potential viable locations\n",
    "hospitals = pd.read_csv('data/cambridge_uni_hospital_sites.csv')\n",
    "hospitals.head(2)"
   ]
  },
  {
   "cell_type": "code",
   "execution_count": null,
   "metadata": {},
   "outputs": [],
   "source": [
    "\n",
    "G = ox.graph.graph_from_place('Cambridge', simplify = True, network_type = 'walk')\n",
    "\n",
    "# The following code can be run to decrease the time required to generate OSMnx network graphs.\n",
    "# If a node cannot access at least 10% of other nodes it is removed from the network\n",
    "#---------------------------------------------------------------------------------------\n",
    "\n",
    "'''\n",
    "remove_list = []\n",
    "num_nodes = len(G.nodes)\n",
    "for node in G.nodes:  \n",
    "     reach = len(nx.descendants(G, node))\n",
    "     if reach < num_nodes / 10:\n",
    "         remove_list.append(node)\n",
    "for node in remove_list:\n",
    "     G.remove_node(node)\n",
    "'''\n",
    "#---------------------------------------------------------------------------------------\n",
    "ox.plot_graph(G, figsize = (10,10));"
   ]
  },
  {
   "cell_type": "code",
   "execution_count": null,
   "metadata": {},
   "outputs": [],
   "source": [
    "nodes, edges = ox.graph_to_gdfs(G)\n",
    "nodes"
   ]
  },
  {
   "cell_type": "code",
   "execution_count": null,
   "metadata": {},
   "outputs": [],
   "source": [
    "#get the target addresses from the hospitals dataframe\n",
    "target_index1 = 176\n",
    "target_index2 = 173\n",
    "\n",
    "target_address1 = hospitals['Address Line 1'][target_index1] + ', Cambridge'\n",
    "target_address2 = hospitals['Address Line 1'][target_index2] + ', Cambridge'\n",
    "\n",
    "#convert the addresses to lat long coordinates and get the nearest node on the graph\n",
    "target_coords1 = ox.geocode(target_address1)\n",
    "target_node1 = ox.nearest_nodes(G, target_coords1[1],target_coords1[0])\n",
    "\n",
    "target_coords2 = ox.geocode(target_address2)\n",
    "target_node2 = ox.nearest_nodes(G, target_coords2[1],target_coords2[0])\n",
    "\n",
    "list_of_target_nodes = [target_node1, target_node2]"
   ]
  },
  {
   "cell_type": "code",
   "execution_count": null,
   "metadata": {},
   "outputs": [],
   "source": [
    "list_of_target_nodes[0]"
   ]
  },
  {
   "cell_type": "code",
   "execution_count": null,
   "metadata": {},
   "outputs": [],
   "source": [
    "#generate the random sample of 100 samples by first removing the target node location from the dataframe\n",
    "nodes_df = nodes.copy()\n",
    "nodes_df = nodes_df[~nodes_df.index.isin(list_of_target_nodes)] #get the dataframe of nodes that do not have any target nodes in them\n",
    "nodes_sample = nodes_df[['y', 'x']].sample(n = 100, random_state = 1234)\n",
    "nodes_sample"
   ]
  },
  {
   "cell_type": "code",
   "execution_count": null,
   "metadata": {},
   "outputs": [],
   "source": [
    "#creating a function to calculate a score from a list of lengths calculated from the target node to each of the 100 sample nodes\n",
    "def create_score(list_of_lengths):\n",
    "    score = 1000\n",
    "    for l in list_of_lengths:\n",
    "        deduction = (((l/1000)/4.5)*60) * 5 #get the length in km divide by speed 4.5 km/h then divide by 60 to get time in minutes\n",
    "        score = score - deduction #decrement the score by the derivation of time taken to each of the 100 nodes\n",
    "        return score"
   ]
  },
  {
   "cell_type": "code",
   "execution_count": null,
   "metadata": {},
   "outputs": [],
   "source": [
    "#define a function to calculate multiple shortest route lengths from the target node to each of the 100 sample nodes\n",
    "def create_list_of_lengths(nodes_sample, target_node):\n",
    "    list_of_lengths = []\n",
    "    for node in nodes_sample.index:\n",
    "        length = nx.shortest_path_length(G, source=node, target=target_node, weight='length') #calculate route from target node to sample node\n",
    "        list_of_lengths.append(length) #append the length to the list\n",
    "    \n",
    "    return list_of_lengths\n",
    "    "
   ]
  },
  {
   "cell_type": "code",
   "execution_count": null,
   "metadata": {},
   "outputs": [],
   "source": [
    "#run the function defined above to generate a list of lengths between the target nodes and sample nodes\n",
    "#then generate the score for each and store them in a dictionary\n",
    "target_scores = {}\n",
    "target_scores['Site 1'] = create_score(create_list_of_lengths(nodes_sample, list_of_target_nodes[0]))\n",
    "target_scores['Site 2'] = create_score(create_list_of_lengths(nodes_sample, list_of_target_nodes[1]))\n",
    "target_scores"
   ]
  },
  {
   "cell_type": "code",
   "execution_count": null,
   "metadata": {},
   "outputs": [],
   "source": [
    "#print the scores for each proposed target site\n",
    "print('The score for Site 1: {} is {}'.format(hospitals['Name'].iloc[target_index1], target_scores['Site 1']))\n",
    "print('The score for Site 2: {} is {}'.format(hospitals['Name'].iloc[target_index2], target_scores['Site 2']))"
   ]
  },
  {
   "cell_type": "code",
   "execution_count": null,
   "metadata": {},
   "outputs": [],
   "source": [
    "#initiate dictionary to store routes for all 100 nodes for each proposed site\n",
    "target_to_nodes_routes = {}\n",
    "target_node_names = ['Site1', 'Site2']"
   ]
  },
  {
   "cell_type": "code",
   "execution_count": null,
   "metadata": {},
   "outputs": [],
   "source": [
    "#generate multiple shortest routes for each site and store in dictionary for plotting\n",
    "for site, target_node in zip(target_node_names, list_of_target_nodes):\n",
    "    list_of_routes = []\n",
    "    for node in nodes_sample.index:\n",
    "        route = nx.shortest_path(G, source=node, target=target_node, weight='length') #calculate route from target node to sample node\n",
    "        list_of_routes.append(route) #append the length to the list\n",
    "    target_to_nodes_routes[site] = list_of_routes\n",
    "    \n"
   ]
  },
  {
   "cell_type": "code",
   "execution_count": null,
   "metadata": {},
   "outputs": [],
   "source": [
    "import folium"
   ]
  },
  {
   "cell_type": "code",
   "execution_count": null,
   "metadata": {},
   "outputs": [],
   "source": [
    "route_map = ox.plot_route_folium(G, target_to_nodes_routes[site][0], route_color = '#ff0000', opacity = 0.5)\n",
    "for route in target_to_nodes_routes[site][1:len(target_to_nodes_routes[site])]:\n",
    "    route_map = ox.plot_route_folium(G, route, route_map = route_map, route_color = '#ff0000', opacity = 0.5)\n",
    "iframe = folium.IFrame('<font face = \"Arial\"><b>{}:</b> {}. <br><br><b>{} Score:</b> {}</br></br></font>'.format(site, target_address1, site, target_scores['Site 1']))\n",
    "popup = folium.Popup(iframe, min_width=200, max_width=200)\n",
    "folium.Marker(location=target_coords1,\n",
    "popup = popup).add_to(route_map)"
   ]
  },
  {
   "cell_type": "code",
   "execution_count": null,
   "metadata": {},
   "outputs": [],
   "source": [
    "m = folium.Map(location=target_coords2,tiles=\"cartodbpositron\",zoom_start=13)\n",
    "\n",
    "# layers to toggle\n",
    "layer1 = folium.FeatureGroup(name='Route 1')\n",
    "layer2 = folium.FeatureGroup(name='Route 2')\n",
    "# create the route layers and add them to the map\n",
    "route1 = [] \n",
    "for route in target_to_nodes_routes['Site1']:\n",
    "    route_coords = []\n",
    "    for node in route:\n",
    "        route_coords.append((nodes.at[node, 'y'], nodes.at[node, 'x']))\n",
    "        route1.append(route_coords)\n",
    "\n",
    "route2 = []\n",
    "for route in target_to_nodes_routes['Site2']:\n",
    "    route_coords = []\n",
    "    for node in route:\n",
    "        route_coords.append((nodes.at[node, 'y'], nodes.at[node, 'x']))\n",
    "        route2.append(route_coords)\n",
    "\n",
    "folium.PolyLine(route1, color='red', weight=2, opacity=0.5).add_to(layer1)\n",
    "folium.PolyLine(route2, color='green', weight=2, opacity=0.5).add_to(layer2)\n",
    "\n",
    "# add the layers to the map\n",
    "layer1.add_to(m)\n",
    "layer2.add_to(m)\n",
    "\n",
    "# add a layer control to toggle the layers on and off\n",
    "folium.LayerControl().add_to(m)\n",
    "\n",
    "# add a checkbox to toggle the layers on and off\n",
    "folium.map.Marker(\n",
    "[target_coords1[0], target_coords1[1]],\n",
    "icon=folium.Icon(color='red', icon='info-sign')\n",
    ").add_to(layer1)\n",
    "\n",
    "folium.map.Marker(\n",
    "[target_coords2[0], target_coords2[1]],\n",
    "icon=folium.Icon(color='green', icon='info-sign')\n",
    ").add_to(layer2)\n",
    "\n",
    "site1_marker = folium.map.Marker(\n",
    "[target_coords1[0], target_coords1[1]],\n",
    "icon=folium.Icon(color='red', icon='info-sign')\n",
    ").add_to(layer1)\n",
    "site1_popup = folium.Popup('<b>Site 1:</b>: {}<br><b>Score:</b> {}'.format(target_address1,target_scores['Site 1']), max_width=250)\n",
    "popup = folium.Popup(iframe, min_width=200, max_width=200)\n",
    "site1_marker.add_child(site1_popup)\n",
    "# add a marker and popup for each site\n",
    "site2_marker = folium.map.Marker(\n",
    "[target_coords2[0], target_coords2[1]],\n",
    "icon=folium.Icon(color='green', icon='info-sign')\n",
    ").add_to(layer2)\n",
    "site2_popup = folium.Popup('<b>Site 2:</b> {}<br><b>Score:</b> {}'.format(target_address2,target_scores['Site 2']), max_width=250)\n",
    "site2_marker.add_child(site2_popup)\n",
    "\n",
    "m"
   ]
  },
  {
   "cell_type": "code",
   "execution_count": null,
   "metadata": {},
   "outputs": [],
   "source": [
    "m"
   ]
  },
  {
   "cell_type": "code",
   "execution_count": null,
   "metadata": {},
   "outputs": [],
   "source": []
  }
 ],
 "metadata": {
  "kernelspec": {
   "display_name": "geospatial",
   "language": "python",
   "name": "python3"
  },
  "language_info": {
   "codemirror_mode": {
    "name": "ipython",
    "version": 3
   },
   "file_extension": ".py",
   "mimetype": "text/x-python",
   "name": "python",
   "nbconvert_exporter": "python",
   "pygments_lexer": "ipython3",
   "version": "3.10.9"
  },
  "orig_nbformat": 4,
  "vscode": {
   "interpreter": {
    "hash": "50685737fbc6cb6f981846f00900fd7ccc4ceb2bc5bc4382b2d481460a1d5d35"
   }
  }
 },
 "nbformat": 4,
 "nbformat_minor": 2
}
