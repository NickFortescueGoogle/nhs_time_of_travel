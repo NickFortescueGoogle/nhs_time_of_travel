{
 "cells": [
  {
   "cell_type": "code",
   "execution_count": null,
   "metadata": {},
   "outputs": [],
   "source": [
    "import networkx as nx\n",
    "import osmnx as ox\n",
    "import geopandas as gpd\n",
    "import matplotlib.pyplot as plt\n",
    "from descartes import PolygonPatch\n",
    "from shapely.geometry import Point, LineString, Polygon\n",
    "from shapely.ops import cascaded_union\n",
    "import urllib.request\n",
    "import pandas as pd\n",
    "import zipfile\n",
    "import folium\n",
    "import numpy as np\n",
    "from geopy.geocoders import Nominatim\n",
    "from geopy.extra.rate_limiter import RateLimiter\n",
    "from branca.element import Template, MacroElement\n",
    "\n",
    "import plotly\n",
    "import plotly.graph_objects as go\n",
    "\n",
    "\n",
    "\n"
   ]
  },
  {
   "cell_type": "code",
   "execution_count": null,
   "metadata": {},
   "outputs": [],
   "source": [
    "## https://github.com/nick-caros/nyc-travel-times\n",
    "## https://towardsdatascience.com/finding-time-dependent-travel-times-between-every-pair-of-locations-in-manhattan-c3c48b0db7ba\n",
    "##http://pysal.org/\n",
    "##https://nathanrooy.github.io/posts/2021-03-12/osmnx-openstreetmap-taxicab-routing/\n",
    "##https://stackoverflow.com/questions/62156969/osmnx-shortest-path-nodes-get-node-traveled-time\n",
    "##https://towardsdatascience.com/putting-uber-movement-data-into-action-machine-learning-approach-71a4b9ed0acd"
   ]
  },
  {
   "cell_type": "code",
   "execution_count": null,
   "metadata": {},
   "outputs": [],
   "source": [
    "point = 51.515472, -0.141336 #-------------- Oxford Circus Underground tubestop\n",
    "\n",
    "G = ox.graph.graph_from_point(point, dist=4000, simplify=True,  network_type='drive')\n",
    "\n",
    "# If a node cannot access at least 10% of other nodes, delete it (isolated) \n",
    "\n",
    "remove_list = []\n",
    "num_nodes = len(G.nodes)\n",
    "for node in G.nodes:  \n",
    "     reach = len(nx.descendants(G, node))\n",
    "     if reach < num_nodes / 10:\n",
    "         remove_list.append(node)\n",
    "for node in remove_list:\n",
    "     G.remove_node(node)\n",
    "\n",
    "# change node labels to integers\n",
    "G = nx.convert_node_labels_to_integers(G, label_attribute='old_node_ID')\n",
    "ox.plot_graph(G, figsize = (10,10));"
   ]
  },
  {
   "cell_type": "code",
   "execution_count": null,
   "metadata": {},
   "outputs": [],
   "source": [
    "### Use freeflow travel time as backup in case travel time not available in Uber data\n",
    "G = ox.add_edge_speeds(G)\n",
    "G = ox.speed.add_edge_travel_times(G, precision=1)"
   ]
  },
  {
   "cell_type": "code",
   "execution_count": null,
   "metadata": {},
   "outputs": [],
   "source": [
    "\n",
    "# Convert to dictionary with way IDs and hour of the day as keys:\n",
    "\n",
    "# Use Uber Movement data to get average speed for all ways during each hour of the average weekday\n",
    "try:\n",
    "    speed_df = pd.read_csv('data\\movement-speeds-quarterly-by-hod-london-2020-Q1.csv') # downloaded from Uber Movement\n",
    "    speed_df_1 = speed_df.groupby([\"osm_way_id\", \"hour_of_day\"]).mean().reset_index()\n",
    "    speed_df_2 = speed_df_1[['osm_way_id', 'hour_of_day', 'speed_mph_mean']]\n",
    "    speed_df_2['speed'] = (speed_df_2['speed_mph_mean'] * 1.60934).round(1)\n",
    "    speed_df_3 = speed_df_2[speed_df_2['hour_of_day'] == 18].reset_index(drop = True) #---- GP practice opening times \n",
    "    speed_df_4 = speed_df_3.drop('speed_mph_mean', axis = 1)\n",
    "    speed_df_4.to_csv('data/uber_movement_speeds_6pm.csv')\n",
    "except:\n",
    "    speed_df_4 = pd.read_csv('data/uber_movement_speeds_6pm.csv')\n",
    "speed_dict = dict([((t.osm_way_id, t.hour_of_day), t.speed) for t in speed_df_4.itertuples()])\n",
    "\n",
    "#------------\n",
    "hour_choice = 18 #-----------chosing 6 pm \n",
    "for edge in G.edges:\n",
    "    edge_obj = G[edge[0]][edge[1]][edge[2]]\n",
    "    wayid = edge_obj['osmid']\n",
    "    try:\n",
    "        speed = speed_dict[(wayid,hour_choice)]\n",
    "        distance = edge_obj['length'] / 1000 # Convert from m to km\n",
    "        travel_time = distance / speed * 60 # Convert from hours to minutes\n",
    "        uber_data = 1\n",
    "    except:\n",
    "        travel_time = edge_obj['travel_time'] / 60 # Convert from seconds to minutes\n",
    "        uber_data = 0 \n",
    "    G[edge[0]][edge[1]][edge[2]]['uber_travel_time'] = travel_time\n",
    "    G[edge[0]][edge[1]][edge[2]]['uber_data'] = uber_data \n"
   ]
  },
  {
   "cell_type": "code",
   "execution_count": null,
   "metadata": {},
   "outputs": [],
   "source": [
    "frame = folium.Figure(width=600, height=600)\n",
    "route_map = folium.Map(\n",
    "    location= [51.4, -0.142],\n",
    "    tiles=\"cartodbpositron\",\n",
    "    zoom_start=12).add_to(frame)\n",
    "\n",
    "\n",
    "origin_location = ['St. John’s Wood Medical Practice', 'Brampton House, 60 Grove End Rd, London,NW8 9NH', 51.5335, -0.17555]\n",
    "destination_location = ['St. Thomas Hospital', 'Westminster Bridge Rd, London, SE1 7EH', 51.4991,  -0.11706]\n",
    "graph_map = ox.plot_graph_folium(G, route_map, color=\"#425563\", opacity=0.3, weight=1)\n",
    "orig = ox.distance.nearest_nodes(G, Y = origin_location[2], X = origin_location[3])\n",
    "dest = ox.distance.nearest_nodes(G, Y = destination_location[2], X =  destination_location[3])\n",
    "route = nx.shortest_path(G, orig, dest, 'travel_time')\n",
    "route_uber = nx.shortest_path(G, orig, dest, 'uber_travel_time')\n",
    "route_map = ox.plot_route_folium(G, route, route_map=route_map, color='#41B6E6')\n",
    "route_map = ox.plot_route_folium(G, route_uber, route_map=route_map, color='#003087')\n",
    "folium.Marker(origin_location[2:], popup = folium.Popup('<b>' + 'Name: ' + '</b>'  + origin_location[0] + '<br>'\n",
    "        '<b>' + 'Address: ' + '</b>'  + origin_location[1] + '<br>',\n",
    "        max_width=len(origin_location[1])*20),\n",
    "        icon=folium.Icon(color=\"darkblue\", prefix='fa', icon=\"fa-medkit\"),\n",
    "        ).add_to(route_map)\n",
    "folium.Marker(destination_location[2:],popup = folium.Popup('<b>' + 'Name: ' + '</b>'  + destination_location[0] + '<br>'\n",
    "        '<b>' + 'Address: ' + '</b>'  + destination_location[1] + '<br>',\n",
    "        max_width=len(destination_location[1])*20),\n",
    "        icon=folium.Icon(color=\"blue\", prefix='fa', icon=\"fa-h-square\"),\n",
    "        ).add_to(route_map)\n",
    "route_map"
   ]
  },
  {
   "cell_type": "code",
   "execution_count": null,
   "metadata": {},
   "outputs": [],
   "source": [
    "##CSS styling Plot 2 legend\n",
    "template = \"\"\"\n",
    "{% macro html(this, kwargs) %}\n",
    "<!doctype html>\n",
    "<html lang=\"en\">\n",
    "<div id='maplegend' class='maplegend' \n",
    "    style='position: absolute; z-index:9999; border:2px solid grey; background-color:rgba(255, 255, 255, 0.8);\n",
    "     border-radius:5px; padding: 3px; font-size:14px; right: 8px; top: 8px;'>\n",
    "     \n",
    "<div class='legend-title'>Routes:</div>\n",
    "<div class='legend-scale'>\n",
    "  <ul class='legend-labels'>\n",
    "    <li><span style='background:#41B6E6'></span><p>&nbsp;&nbsp;</p>\n",
    "Free-flow<p>&nbsp;&nbsp;</p></li>\n",
    "    <li><span style='background:#003087;'></span><p>&nbsp;&nbsp;</p>\n",
    "Uber weighted</li>\n",
    "  </ul>\n",
    "</body>\n",
    "</html>\n",
    "<style type='text/css'>\n",
    "  .maplegend .legend-title {\n",
    "    text-align: left;\n",
    "    margin-bottom: 5px;\n",
    "    font-weight: bold;\n",
    "    font-size: 85%;\n",
    "    }\n",
    "  .maplegend .legend-text {\n",
    "    text-align: left;\n",
    "    margin-bottom: 5px;\n",
    "    font-size: 90%;\n",
    "    }\n",
    "  .maplegend .legend-scale ul {\n",
    "    margin: 0;\n",
    "    margin-bottom: 5px;\n",
    "    padding: 0;\n",
    "    float: left;\n",
    "    list-style: none;\n",
    "    }\n",
    "  .maplegend .legend-scale ul li {\n",
    "    font-size: 80%;\n",
    "    list-style: none;\n",
    "    margin-left: 0;\n",
    "    line-height: 18px;\n",
    "    margin-bottom: 2px;\n",
    "    }\n",
    "  .maplegend ul.legend-labels {\n",
    "    display: flex;\n",
    "    justify-content: space-between;\n",
    "    width: 100%;\n",
    "  }\n",
    "  .maplegend ul.legend-labels li {\n",
    "    display: flex;\n",
    "    align-items: center;\n",
    "  }\n",
    "  .maplegend ul.legend-labels li span {\n",
    "    display: block;\n",
    "    height: 15px;\n",
    "    width: 25px;\n",
    "  }\n",
    "  .maplegend .legend-source {\n",
    "    font-size: 80%;\n",
    "    color: #777;\n",
    "    clear: both;\n",
    "    }\n",
    "  .maplegend a {\n",
    "    color: #777;\n",
    "    }\n",
    "</style>\n",
    "{% endmacro %}\"\"\"\n",
    "macro = MacroElement()\n",
    "macro._template = Template(template)\n",
    "route_map.get_root().add_child(macro)\n",
    "route_map.save(\"images/folium/route_map.html\", \"w\")"
   ]
  },
  {
   "cell_type": "code",
   "execution_count": null,
   "metadata": {},
   "outputs": [],
   "source": [
    "\n",
    "# - Free-flow route\n",
    "cols = ['osmid', 'length', 'travel_time', 'uber_travel_time', 'uber_data']\n",
    "attrs_ff = ox.utils_graph.get_route_edge_attributes(G, route)\n",
    "df_ff = pd.DataFrame(attrs_ff)[cols]\n",
    "\n",
    "# - Uber-weighted route\n",
    "attrs_uber = ox.utils_graph.get_route_edge_attributes(G, route_uber)\n",
    "df_uber = pd.DataFrame(attrs_uber)[cols]\n",
    "\n",
    "## The speed limit for the (A4202) route is 30 mph - 40 mph\n",
    "\n",
    "data_df = [\n",
    "        ['Free-flow', (df_ff['length'].sum()/1000), (df_ff['travel_time'].sum())/60, df_ff['uber_travel_time'].sum(), ((df_ff['uber_data'].sum()/df_ff['uber_data'].count()) *100)], \n",
    "        ['Uber weighted', (df_uber['length'].sum()/1000), (df_uber['travel_time'].sum())/60, df_uber['uber_travel_time'].sum(), ((df_uber['uber_data'].sum()/df_uber['uber_data'].count()) *100)],\n",
    "        ]\n",
    "df_travel = pd.DataFrame(data_df, columns = ['Route', 'Distance (km)', 'Free-flow travel time (min)', 'Uber weighted travel time (min)', 'Edges with Uber travel time data (%)'])\n",
    "df_travel = df_travel.round(2)\n",
    "df_travel"
   ]
  },
  {
   "cell_type": "code",
   "execution_count": 30,
   "metadata": {},
   "outputs": [
    {
     "data": {
      "application/vnd.plotly.v1+json": {
       "config": {
        "plotlyServerURL": "https://plot.ly"
       },
       "data": [
        {
         "cells": {
          "align": "center",
          "fill": {
           "color": "white"
          },
          "font": {
           "color": "Black",
           "size": 14
          },
          "line": {
           "color": "Black"
          },
          "values": [
           [
            "Free-flow",
            "Uber weighted"
           ],
           [
            7.12,
            7.06
           ],
           [
            11.33,
            11.7
           ],
           [
            14.18,
            13.66
           ],
           [
            67.39,
            51.43
           ]
          ]
         },
         "header": {
          "align": "center",
          "fill": {
           "color": "#003087"
          },
          "font": {
           "color": "white",
           "size": 14
          },
          "line": {
           "color": "Black"
          },
          "values": [
           "Route",
           "Distance (km)",
           "Free-flow travel time (min)",
           "Uber weighted travel time (min)",
           "Edges with Uber travel time data (%)"
          ]
         },
         "type": "table"
        }
       ],
       "layout": {
        "height": 93,
        "margin": {
         "b": 0,
         "l": 0,
         "r": 0,
         "t": 0
        },
        "template": {
         "data": {
          "bar": [
           {
            "error_x": {
             "color": "#2a3f5f"
            },
            "error_y": {
             "color": "#2a3f5f"
            },
            "marker": {
             "line": {
              "color": "#E5ECF6",
              "width": 0.5
             },
             "pattern": {
              "fillmode": "overlay",
              "size": 10,
              "solidity": 0.2
             }
            },
            "type": "bar"
           }
          ],
          "barpolar": [
           {
            "marker": {
             "line": {
              "color": "#E5ECF6",
              "width": 0.5
             },
             "pattern": {
              "fillmode": "overlay",
              "size": 10,
              "solidity": 0.2
             }
            },
            "type": "barpolar"
           }
          ],
          "carpet": [
           {
            "aaxis": {
             "endlinecolor": "#2a3f5f",
             "gridcolor": "white",
             "linecolor": "white",
             "minorgridcolor": "white",
             "startlinecolor": "#2a3f5f"
            },
            "baxis": {
             "endlinecolor": "#2a3f5f",
             "gridcolor": "white",
             "linecolor": "white",
             "minorgridcolor": "white",
             "startlinecolor": "#2a3f5f"
            },
            "type": "carpet"
           }
          ],
          "choropleth": [
           {
            "colorbar": {
             "outlinewidth": 0,
             "ticks": ""
            },
            "type": "choropleth"
           }
          ],
          "contour": [
           {
            "colorbar": {
             "outlinewidth": 0,
             "ticks": ""
            },
            "colorscale": [
             [
              0,
              "#0d0887"
             ],
             [
              0.1111111111111111,
              "#46039f"
             ],
             [
              0.2222222222222222,
              "#7201a8"
             ],
             [
              0.3333333333333333,
              "#9c179e"
             ],
             [
              0.4444444444444444,
              "#bd3786"
             ],
             [
              0.5555555555555556,
              "#d8576b"
             ],
             [
              0.6666666666666666,
              "#ed7953"
             ],
             [
              0.7777777777777778,
              "#fb9f3a"
             ],
             [
              0.8888888888888888,
              "#fdca26"
             ],
             [
              1,
              "#f0f921"
             ]
            ],
            "type": "contour"
           }
          ],
          "contourcarpet": [
           {
            "colorbar": {
             "outlinewidth": 0,
             "ticks": ""
            },
            "type": "contourcarpet"
           }
          ],
          "heatmap": [
           {
            "colorbar": {
             "outlinewidth": 0,
             "ticks": ""
            },
            "colorscale": [
             [
              0,
              "#0d0887"
             ],
             [
              0.1111111111111111,
              "#46039f"
             ],
             [
              0.2222222222222222,
              "#7201a8"
             ],
             [
              0.3333333333333333,
              "#9c179e"
             ],
             [
              0.4444444444444444,
              "#bd3786"
             ],
             [
              0.5555555555555556,
              "#d8576b"
             ],
             [
              0.6666666666666666,
              "#ed7953"
             ],
             [
              0.7777777777777778,
              "#fb9f3a"
             ],
             [
              0.8888888888888888,
              "#fdca26"
             ],
             [
              1,
              "#f0f921"
             ]
            ],
            "type": "heatmap"
           }
          ],
          "heatmapgl": [
           {
            "colorbar": {
             "outlinewidth": 0,
             "ticks": ""
            },
            "colorscale": [
             [
              0,
              "#0d0887"
             ],
             [
              0.1111111111111111,
              "#46039f"
             ],
             [
              0.2222222222222222,
              "#7201a8"
             ],
             [
              0.3333333333333333,
              "#9c179e"
             ],
             [
              0.4444444444444444,
              "#bd3786"
             ],
             [
              0.5555555555555556,
              "#d8576b"
             ],
             [
              0.6666666666666666,
              "#ed7953"
             ],
             [
              0.7777777777777778,
              "#fb9f3a"
             ],
             [
              0.8888888888888888,
              "#fdca26"
             ],
             [
              1,
              "#f0f921"
             ]
            ],
            "type": "heatmapgl"
           }
          ],
          "histogram": [
           {
            "marker": {
             "pattern": {
              "fillmode": "overlay",
              "size": 10,
              "solidity": 0.2
             }
            },
            "type": "histogram"
           }
          ],
          "histogram2d": [
           {
            "colorbar": {
             "outlinewidth": 0,
             "ticks": ""
            },
            "colorscale": [
             [
              0,
              "#0d0887"
             ],
             [
              0.1111111111111111,
              "#46039f"
             ],
             [
              0.2222222222222222,
              "#7201a8"
             ],
             [
              0.3333333333333333,
              "#9c179e"
             ],
             [
              0.4444444444444444,
              "#bd3786"
             ],
             [
              0.5555555555555556,
              "#d8576b"
             ],
             [
              0.6666666666666666,
              "#ed7953"
             ],
             [
              0.7777777777777778,
              "#fb9f3a"
             ],
             [
              0.8888888888888888,
              "#fdca26"
             ],
             [
              1,
              "#f0f921"
             ]
            ],
            "type": "histogram2d"
           }
          ],
          "histogram2dcontour": [
           {
            "colorbar": {
             "outlinewidth": 0,
             "ticks": ""
            },
            "colorscale": [
             [
              0,
              "#0d0887"
             ],
             [
              0.1111111111111111,
              "#46039f"
             ],
             [
              0.2222222222222222,
              "#7201a8"
             ],
             [
              0.3333333333333333,
              "#9c179e"
             ],
             [
              0.4444444444444444,
              "#bd3786"
             ],
             [
              0.5555555555555556,
              "#d8576b"
             ],
             [
              0.6666666666666666,
              "#ed7953"
             ],
             [
              0.7777777777777778,
              "#fb9f3a"
             ],
             [
              0.8888888888888888,
              "#fdca26"
             ],
             [
              1,
              "#f0f921"
             ]
            ],
            "type": "histogram2dcontour"
           }
          ],
          "mesh3d": [
           {
            "colorbar": {
             "outlinewidth": 0,
             "ticks": ""
            },
            "type": "mesh3d"
           }
          ],
          "parcoords": [
           {
            "line": {
             "colorbar": {
              "outlinewidth": 0,
              "ticks": ""
             }
            },
            "type": "parcoords"
           }
          ],
          "pie": [
           {
            "automargin": true,
            "type": "pie"
           }
          ],
          "scatter": [
           {
            "marker": {
             "colorbar": {
              "outlinewidth": 0,
              "ticks": ""
             }
            },
            "type": "scatter"
           }
          ],
          "scatter3d": [
           {
            "line": {
             "colorbar": {
              "outlinewidth": 0,
              "ticks": ""
             }
            },
            "marker": {
             "colorbar": {
              "outlinewidth": 0,
              "ticks": ""
             }
            },
            "type": "scatter3d"
           }
          ],
          "scattercarpet": [
           {
            "marker": {
             "colorbar": {
              "outlinewidth": 0,
              "ticks": ""
             }
            },
            "type": "scattercarpet"
           }
          ],
          "scattergeo": [
           {
            "marker": {
             "colorbar": {
              "outlinewidth": 0,
              "ticks": ""
             }
            },
            "type": "scattergeo"
           }
          ],
          "scattergl": [
           {
            "marker": {
             "colorbar": {
              "outlinewidth": 0,
              "ticks": ""
             }
            },
            "type": "scattergl"
           }
          ],
          "scattermapbox": [
           {
            "marker": {
             "colorbar": {
              "outlinewidth": 0,
              "ticks": ""
             }
            },
            "type": "scattermapbox"
           }
          ],
          "scatterpolar": [
           {
            "marker": {
             "colorbar": {
              "outlinewidth": 0,
              "ticks": ""
             }
            },
            "type": "scatterpolar"
           }
          ],
          "scatterpolargl": [
           {
            "marker": {
             "colorbar": {
              "outlinewidth": 0,
              "ticks": ""
             }
            },
            "type": "scatterpolargl"
           }
          ],
          "scatterternary": [
           {
            "marker": {
             "colorbar": {
              "outlinewidth": 0,
              "ticks": ""
             }
            },
            "type": "scatterternary"
           }
          ],
          "surface": [
           {
            "colorbar": {
             "outlinewidth": 0,
             "ticks": ""
            },
            "colorscale": [
             [
              0,
              "#0d0887"
             ],
             [
              0.1111111111111111,
              "#46039f"
             ],
             [
              0.2222222222222222,
              "#7201a8"
             ],
             [
              0.3333333333333333,
              "#9c179e"
             ],
             [
              0.4444444444444444,
              "#bd3786"
             ],
             [
              0.5555555555555556,
              "#d8576b"
             ],
             [
              0.6666666666666666,
              "#ed7953"
             ],
             [
              0.7777777777777778,
              "#fb9f3a"
             ],
             [
              0.8888888888888888,
              "#fdca26"
             ],
             [
              1,
              "#f0f921"
             ]
            ],
            "type": "surface"
           }
          ],
          "table": [
           {
            "cells": {
             "fill": {
              "color": "#EBF0F8"
             },
             "line": {
              "color": "white"
             }
            },
            "header": {
             "fill": {
              "color": "#C8D4E3"
             },
             "line": {
              "color": "white"
             }
            },
            "type": "table"
           }
          ]
         },
         "layout": {
          "annotationdefaults": {
           "arrowcolor": "#2a3f5f",
           "arrowhead": 0,
           "arrowwidth": 1
          },
          "autotypenumbers": "strict",
          "coloraxis": {
           "colorbar": {
            "outlinewidth": 0,
            "ticks": ""
           }
          },
          "colorscale": {
           "diverging": [
            [
             0,
             "#8e0152"
            ],
            [
             0.1,
             "#c51b7d"
            ],
            [
             0.2,
             "#de77ae"
            ],
            [
             0.3,
             "#f1b6da"
            ],
            [
             0.4,
             "#fde0ef"
            ],
            [
             0.5,
             "#f7f7f7"
            ],
            [
             0.6,
             "#e6f5d0"
            ],
            [
             0.7,
             "#b8e186"
            ],
            [
             0.8,
             "#7fbc41"
            ],
            [
             0.9,
             "#4d9221"
            ],
            [
             1,
             "#276419"
            ]
           ],
           "sequential": [
            [
             0,
             "#0d0887"
            ],
            [
             0.1111111111111111,
             "#46039f"
            ],
            [
             0.2222222222222222,
             "#7201a8"
            ],
            [
             0.3333333333333333,
             "#9c179e"
            ],
            [
             0.4444444444444444,
             "#bd3786"
            ],
            [
             0.5555555555555556,
             "#d8576b"
            ],
            [
             0.6666666666666666,
             "#ed7953"
            ],
            [
             0.7777777777777778,
             "#fb9f3a"
            ],
            [
             0.8888888888888888,
             "#fdca26"
            ],
            [
             1,
             "#f0f921"
            ]
           ],
           "sequentialminus": [
            [
             0,
             "#0d0887"
            ],
            [
             0.1111111111111111,
             "#46039f"
            ],
            [
             0.2222222222222222,
             "#7201a8"
            ],
            [
             0.3333333333333333,
             "#9c179e"
            ],
            [
             0.4444444444444444,
             "#bd3786"
            ],
            [
             0.5555555555555556,
             "#d8576b"
            ],
            [
             0.6666666666666666,
             "#ed7953"
            ],
            [
             0.7777777777777778,
             "#fb9f3a"
            ],
            [
             0.8888888888888888,
             "#fdca26"
            ],
            [
             1,
             "#f0f921"
            ]
           ]
          },
          "colorway": [
           "#636efa",
           "#EF553B",
           "#00cc96",
           "#ab63fa",
           "#FFA15A",
           "#19d3f3",
           "#FF6692",
           "#B6E880",
           "#FF97FF",
           "#FECB52"
          ],
          "font": {
           "color": "#2a3f5f"
          },
          "geo": {
           "bgcolor": "white",
           "lakecolor": "white",
           "landcolor": "#E5ECF6",
           "showlakes": true,
           "showland": true,
           "subunitcolor": "white"
          },
          "hoverlabel": {
           "align": "left"
          },
          "hovermode": "closest",
          "mapbox": {
           "style": "light"
          },
          "paper_bgcolor": "white",
          "plot_bgcolor": "#E5ECF6",
          "polar": {
           "angularaxis": {
            "gridcolor": "white",
            "linecolor": "white",
            "ticks": ""
           },
           "bgcolor": "#E5ECF6",
           "radialaxis": {
            "gridcolor": "white",
            "linecolor": "white",
            "ticks": ""
           }
          },
          "scene": {
           "xaxis": {
            "backgroundcolor": "#E5ECF6",
            "gridcolor": "white",
            "gridwidth": 2,
            "linecolor": "white",
            "showbackground": true,
            "ticks": "",
            "zerolinecolor": "white"
           },
           "yaxis": {
            "backgroundcolor": "#E5ECF6",
            "gridcolor": "white",
            "gridwidth": 2,
            "linecolor": "white",
            "showbackground": true,
            "ticks": "",
            "zerolinecolor": "white"
           },
           "zaxis": {
            "backgroundcolor": "#E5ECF6",
            "gridcolor": "white",
            "gridwidth": 2,
            "linecolor": "white",
            "showbackground": true,
            "ticks": "",
            "zerolinecolor": "white"
           }
          },
          "shapedefaults": {
           "line": {
            "color": "#2a3f5f"
           }
          },
          "ternary": {
           "aaxis": {
            "gridcolor": "white",
            "linecolor": "white",
            "ticks": ""
           },
           "baxis": {
            "gridcolor": "white",
            "linecolor": "white",
            "ticks": ""
           },
           "bgcolor": "#E5ECF6",
           "caxis": {
            "gridcolor": "white",
            "linecolor": "white",
            "ticks": ""
           }
          },
          "title": {
           "x": 0.05
          },
          "xaxis": {
           "automargin": true,
           "gridcolor": "white",
           "linecolor": "white",
           "ticks": "",
           "title": {
            "standoff": 15
           },
           "zerolinecolor": "white",
           "zerolinewidth": 2
          },
          "yaxis": {
           "automargin": true,
           "gridcolor": "white",
           "linecolor": "white",
           "ticks": "",
           "title": {
            "standoff": 15
           },
           "zerolinecolor": "white",
           "zerolinewidth": 2
          }
         }
        },
        "width": 930
       }
      }
     },
     "metadata": {},
     "output_type": "display_data"
    }
   ],
   "source": [
    "fig = go.Figure(data=[go.Table(\n",
    "    header=dict(values=list(df_travel.columns),\n",
    "                fill_color='#003087',\n",
    "                line_color='Black',\n",
    "                font=dict(color='white', size=14),\n",
    "                align='center'),\n",
    "    cells=dict(values= [df_travel['Route'], df_travel['Distance (km)'], df_travel['Free-flow travel time (min)'], df_travel['Uber weighted travel time (min)'],  df_travel['Edges with Uber travel time data (%)']],\n",
    "               fill_color='white',\n",
    "               line_color='Black',\n",
    "               font=dict(color='Black', size=14),\n",
    "               align='center'))\n",
    "])\n",
    "fig.update_layout(margin=dict(l=0,r=0,b=0,t=0), width=930, height=93)"
   ]
  },
  {
   "cell_type": "code",
   "execution_count": 31,
   "metadata": {},
   "outputs": [],
   "source": [
    "config = {\"displayModeBar\": False, \"displaylogo\": False}\n",
    "plotly_table = plotly.offline.plot(\n",
    "    fig, include_plotlyjs=True, output_type=\"div\", config=config\n",
    ")\n",
    "with open(\"images/folium/plotly_table.html\", \"w\") as file:\n",
    "    file.write(plotly_table)"
   ]
  }
 ],
 "metadata": {
  "interpreter": {
   "hash": "e98869b80c60f5f4af31f3c4b6100e7a15235e13e37aadea8b38ff26e37d07fb"
  },
  "kernelspec": {
   "display_name": "Python 3.8.12 ('geo_env')",
   "language": "python",
   "name": "python3"
  },
  "language_info": {
   "codemirror_mode": {
    "name": "ipython",
    "version": 3
   },
   "file_extension": ".py",
   "mimetype": "text/x-python",
   "name": "python",
   "nbconvert_exporter": "python",
   "pygments_lexer": "ipython3",
   "version": "3.9.7"
  },
  "orig_nbformat": 4
 },
 "nbformat": 4,
 "nbformat_minor": 2
}
