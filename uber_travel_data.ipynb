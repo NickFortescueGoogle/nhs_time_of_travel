{
 "cells": [
  {
   "cell_type": "code",
   "execution_count": null,
   "metadata": {},
   "outputs": [],
   "source": [
    "import networkx as nx\n",
    "import osmnx as ox\n",
    "import geopandas as gpd\n",
    "import matplotlib.pyplot as plt\n",
    "from descartes import PolygonPatch\n",
    "from shapely.geometry import Point, LineString, Polygon\n",
    "from shapely.ops import cascaded_union\n",
    "import urllib.request\n",
    "import pandas as pd\n",
    "import zipfile\n",
    "import folium\n",
    "import numpy as np\n",
    "from geopy.geocoders import Nominatim\n",
    "from geopy.extra.rate_limiter import RateLimiter\n"
   ]
  },
  {
   "cell_type": "code",
   "execution_count": null,
   "metadata": {},
   "outputs": [],
   "source": [
    "## https://github.com/nick-caros/nyc-travel-times\n",
    "## https://towardsdatascience.com/finding-time-dependent-travel-times-between-every-pair-of-locations-in-manhattan-c3c48b0db7ba\n",
    "##http://pysal.org/\n",
    "##https://nathanrooy.github.io/posts/2021-03-12/osmnx-openstreetmap-taxicab-routing/\n",
    "##https://stackoverflow.com/questions/62156969/osmnx-shortest-path-nodes-get-node-traveled-time"
   ]
  },
  {
   "cell_type": "code",
   "execution_count": null,
   "metadata": {},
   "outputs": [],
   "source": [
    "point = 51.515472, -0.141336 #-------------- Oxford Circus Underground tubestop\n",
    "\n",
    "G = ox.graph.graph_from_point(point, dist=2500, simplify=True,  network_type='drive')\n",
    "\n",
    "# If a node cannot access at least 10% of other nodes, delete it (isolated) \n",
    "remove_list = []\n",
    "num_nodes = len(G.nodes)\n",
    "for node in G.nodes:  \n",
    "    reach = len(nx.descendants(G, node))\n",
    "    if reach < num_nodes / 10:\n",
    "        remove_list.append(node)\n",
    "\n",
    "for node in remove_list:\n",
    "    G.remove_node(node)\n",
    "\n",
    "# change node labels to integers\n",
    "G = nx.convert_node_labels_to_integers(G, label_attribute='old_node_ID')\n",
    "ox.plot_graph(G, figsize = (10,10));"
   ]
  },
  {
   "cell_type": "code",
   "execution_count": null,
   "metadata": {},
   "outputs": [],
   "source": [
    "### Use freeflow travel time as backup in case travel time not available in Uber data\n",
    "G = ox.add_edge_speeds(G)\n",
    "G = ox.speed.add_edge_travel_times(G, precision=1)"
   ]
  },
  {
   "cell_type": "code",
   "execution_count": null,
   "metadata": {},
   "outputs": [],
   "source": [
    "# Use Uber Movement data to get average speed for all ways during each hour of the average weekday\n",
    "speed_df = pd.read_csv('data\\movement-speeds-quarterly-by-hod-london-2020-Q1.csv') # downloaded from Uber Movement\n",
    "speed_df_1 = speed_df.groupby([\"osm_way_id\", \"hour_of_day\"]).mean().reset_index()\n",
    "speed_df_2 = speed_df_1[['osm_way_id', 'hour_of_day', 'speed_mph_mean']]\n",
    "speed_df_2['speed'] = (speed_df_2['speed_mph_mean'] * 1.60934).round(1)\n",
    "speed_df_3 = speed_df_2[(speed_df_2['hour_of_day'] >= 8) & (speed_df_2['hour_of_day'] <= 19)].reset_index(drop = True) #---- GP practice opening times \n",
    "speed_df_4 = speed_df_3.drop('speed_mph_mean', axis = 1)"
   ]
  },
  {
   "cell_type": "code",
   "execution_count": null,
   "metadata": {},
   "outputs": [],
   "source": [
    "# Convert to dictionary with way IDs and hour of the day as keys\n",
    "speed_dict = dict([((t.osm_way_id, t.hour_of_day), t.speed) for t in speed_df_4.itertuples()])"
   ]
  },
  {
   "cell_type": "code",
   "execution_count": null,
   "metadata": {},
   "outputs": [],
   "source": [
    "#### \n",
    "\n",
    "hour_choice = 18 #-----------chosing 6 pm \n",
    "for edge in G.edges:\n",
    "    edge_obj = G[edge[0]][edge[1]][edge[2]]\n",
    "    wayid = edge_obj['osmid']\n",
    "    try:\n",
    "        speed = speed_dict[(wayid,hour_choice)]\n",
    "        distance = edge_obj['length'] / 1000 # Convert from m to km\n",
    "        travel_time = distance / speed * 60 # Convert from hours to minutes\n",
    "    except:\n",
    "        travel_time = edge_obj['travel_time'] / 60 # Convert from seconds to minutes\n",
    "    G[edge[0]][edge[1]][edge[2]]['uber_travel_time'] = travel_time\n"
   ]
  },
  {
   "cell_type": "code",
   "execution_count": null,
   "metadata": {},
   "outputs": [],
   "source": [
    "frame = folium.Figure(width=450, height=450)\n",
    "route_map = folium.Map(\n",
    "    location= point,\n",
    "    tiles=\"cartodbpositron\",\n",
    "    zoom_start=12).add_to(frame)"
   ]
  },
  {
   "cell_type": "code",
   "execution_count": null,
   "metadata": {},
   "outputs": [],
   "source": [
    "\n",
    "origin_location = ['St. John & St Elizabeth Hospital', '60 Grove End Rd, London, NW8 9NH', 51.5329, -0.1744]\n",
    "destination_location = ['St. Thomas Hospital', 'Westminster Bridge Rd, London, SE1 7EH', 51.4991,  -0.11706]\n",
    "graph_map = ox.plot_graph_folium(G, route_map, color=\"#425563\", opacity=0.3, weight=1)\n",
    "orig = ox.distance.nearest_nodes(G, Y = origin_location[2], X = origin_location[3])\n",
    "dest = ox.distance.nearest_nodes(G, Y = destination_location[2], X =  destination_location[3])\n",
    "route = nx.shortest_path(G, orig, dest, 'travel_time')\n",
    "route_uber = nx.shortest_path(G, orig, dest, 'uber_travel_time')\n",
    "route_map = ox.plot_route_folium(G, route, route_map=route_map, color='#41B6E6')\n",
    "route_map = ox.plot_route_folium(G, route_uber, route_map=route_map, color='#003087')\n",
    "folium.Marker(origin_location[2:], popup = folium.Popup('<b>' + 'Name: ' + '</b>'  + origin_location[0] + '<br>'\n",
    "        '<b>' + 'Address: ' + '</b>'  + origin_location[1] + '<br>',\n",
    "        max_width=len(origin_location[1])*20),\n",
    "        icon=folium.Icon(color=\"darkblue\", prefix='fa', icon=\"fa-h-square\"),\n",
    "        ).add_to(route_map)\n",
    "folium.Marker(destination_location[2:],popup = folium.Popup('<b>' + 'Name: ' + '</b>'  + destination_location[0] + '<br>'\n",
    "        '<b>' + 'Address: ' + '</b>'  + destination_location[1] + '<br>',\n",
    "        max_width=len(destination_location[1])*20),\n",
    "        icon=folium.Icon(color=\"blue\", prefix='fa', icon=\"fa-h-square\"),\n",
    "        ).add_to(route_map)\n",
    "folium.LayerControl().add_to(route_map)\n",
    "route_map"
   ]
  }
 ],
 "metadata": {
  "interpreter": {
   "hash": "e98869b80c60f5f4af31f3c4b6100e7a15235e13e37aadea8b38ff26e37d07fb"
  },
  "kernelspec": {
   "display_name": "Python 3.8.12 ('geo_env')",
   "language": "python",
   "name": "python3"
  },
  "language_info": {
   "codemirror_mode": {
    "name": "ipython",
    "version": 3
   },
   "file_extension": ".py",
   "mimetype": "text/x-python",
   "name": "python",
   "nbconvert_exporter": "python",
   "pygments_lexer": "ipython3",
   "version": "3.9.7"
  },
  "orig_nbformat": 4
 },
 "nbformat": 4,
 "nbformat_minor": 2
}
