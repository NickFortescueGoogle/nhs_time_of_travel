{
 "cells": [
  {
   "cell_type": "code",
   "execution_count": 1,
   "id": "882260f0",
   "metadata": {},
   "outputs": [],
   "source": [
    "from nhstravel.gp import GpArea, GpRegion"
   ]
  },
  {
   "cell_type": "markdown",
   "id": "ef767d09",
   "metadata": {},
   "source": [
    "# Looking at the area around a GP surgery"
   ]
  },
  {
   "cell_type": "code",
   "execution_count": 2,
   "id": "250d29b9",
   "metadata": {},
   "outputs": [],
   "source": [
    "# Edit this to try a different Gp practice. Uses substring search, if not unique picks the first one\n",
    "practice_name = \"lambeth\""
   ]
  },
  {
   "cell_type": "code",
   "execution_count": 3,
   "id": "e8428c09",
   "metadata": {},
   "outputs": [
    {
     "name": "stderr",
     "output_type": "stream",
     "text": [
      "/usr/local/google/home/nfortescue/.local/lib/python3.10/site-packages/pandas/core/dtypes/cast.py:122: ShapelyDeprecationWarning: The array interface is deprecated and will no longer work in Shapely 2.0. Convert the '.coords' to a numpy array instead.\n",
      "  arr = construct_1d_object_array_from_listlike(values)\n"
     ]
    },
    {
     "name": "stdout",
     "output_type": "stream",
     "text": [
      "CPU times: user 1.29 s, sys: 39.7 ms, total: 1.33 s\n",
      "Wall time: 1.32 s\n"
     ]
    },
    {
     "data": {
      "text/html": [
       "<div>\n",
       "<style scoped>\n",
       "    .dataframe tbody tr th:only-of-type {\n",
       "        vertical-align: middle;\n",
       "    }\n",
       "\n",
       "    .dataframe tbody tr th {\n",
       "        vertical-align: top;\n",
       "    }\n",
       "\n",
       "    .dataframe thead th {\n",
       "        text-align: right;\n",
       "    }\n",
       "</style>\n",
       "<table border=\"1\" class=\"dataframe\">\n",
       "  <thead>\n",
       "    <tr style=\"text-align: right;\">\n",
       "      <th></th>\n",
       "      <th>Name</th>\n",
       "      <th>latitude</th>\n",
       "      <th>longitude</th>\n",
       "      <th>point</th>\n",
       "    </tr>\n",
       "  </thead>\n",
       "  <tbody>\n",
       "    <tr>\n",
       "      <th>4368</th>\n",
       "      <td>LAMBETH WALK GROUP PRACTICE</td>\n",
       "      <td>51.505031</td>\n",
       "      <td>-0.085892</td>\n",
       "      <td>POINT (-0.0858923 51.5050313)</td>\n",
       "    </tr>\n",
       "    <tr>\n",
       "      <th>4382</th>\n",
       "      <td>THE SOUTH LAMBETH RD PRACTICE</td>\n",
       "      <td>51.476307</td>\n",
       "      <td>-0.105411</td>\n",
       "      <td>POINT (-0.1054114 51.4763073)</td>\n",
       "    </tr>\n",
       "    <tr>\n",
       "      <th>11716</th>\n",
       "      <td>A&amp;E DIVERSION SCHEME (LAMBETH WALK) WIC</td>\n",
       "      <td>51.505031</td>\n",
       "      <td>-0.085892</td>\n",
       "      <td>POINT (-0.0858923 51.5050313)</td>\n",
       "    </tr>\n",
       "    <tr>\n",
       "      <th>12637</th>\n",
       "      <td>COMMUNITY PAEDIATRICIANS-LAMBETH</td>\n",
       "      <td>51.492640</td>\n",
       "      <td>-0.104708</td>\n",
       "      <td>POINT (-0.1047077467635113 51.4926396)</td>\n",
       "    </tr>\n",
       "    <tr>\n",
       "      <th>14827</th>\n",
       "      <td>LAMBETH HEALTHCARE PRACTICE</td>\n",
       "      <td>51.501301</td>\n",
       "      <td>-0.117287</td>\n",
       "      <td>POINT (-0.117287 51.5013012)</td>\n",
       "    </tr>\n",
       "  </tbody>\n",
       "</table>\n",
       "</div>"
      ],
      "text/plain": [
       "                                          Name   latitude  longitude  \\\n",
       "4368               LAMBETH WALK GROUP PRACTICE  51.505031  -0.085892   \n",
       "4382             THE SOUTH LAMBETH RD PRACTICE  51.476307  -0.105411   \n",
       "11716  A&E DIVERSION SCHEME (LAMBETH WALK) WIC  51.505031  -0.085892   \n",
       "12637         COMMUNITY PAEDIATRICIANS-LAMBETH  51.492640  -0.104708   \n",
       "14827              LAMBETH HEALTHCARE PRACTICE  51.501301  -0.117287   \n",
       "\n",
       "                                        point  \n",
       "4368            POINT (-0.0858923 51.5050313)  \n",
       "4382            POINT (-0.1054114 51.4763073)  \n",
       "11716           POINT (-0.0858923 51.5050313)  \n",
       "12637  POINT (-0.1047077467635113 51.4926396)  \n",
       "14827            POINT (-0.117287 51.5013012)  "
      ]
     },
     "execution_count": 3,
     "metadata": {},
     "output_type": "execute_result"
    }
   ],
   "source": [
    "%%time\n",
    "area = GpRegion.load_england()\n",
    "gp_df = area.find_practices(practice_name)\n",
    "gp_df"
   ]
  },
  {
   "cell_type": "code",
   "execution_count": 4,
   "id": "6109832c",
   "metadata": {},
   "outputs": [
    {
     "data": {
      "text/plain": [
       "4368"
      ]
     },
     "execution_count": 4,
     "metadata": {},
     "output_type": "execute_result"
    }
   ],
   "source": [
    "gp_df.index[0]"
   ]
  },
  {
   "cell_type": "code",
   "execution_count": 5,
   "id": "693bfcd1",
   "metadata": {},
   "outputs": [
    {
     "name": "stdout",
     "output_type": "stream",
     "text": [
      "CPU times: user 5.13 s, sys: 239 ms, total: 5.37 s\n",
      "Wall time: 5.37 s\n"
     ]
    }
   ],
   "source": [
    "%%time\n",
    "gp_area = area.get_practice_area(gp_df.index[0])\n",
    "G = gp_area.osm_graph()"
   ]
  },
  {
   "cell_type": "code",
   "execution_count": 6,
   "id": "dbf94c14",
   "metadata": {},
   "outputs": [
    {
     "data": {
      "image/svg+xml": [
       "<svg xmlns=\"http://www.w3.org/2000/svg\" xmlns:xlink=\"http://www.w3.org/1999/xlink\" width=\"100.0\" height=\"100.0\" viewBox=\"-0.09903697327377181 51.49909092144416 0.02265512100779382 0.021168457111684802\" preserveAspectRatio=\"xMinYMin meet\"><g transform=\"matrix(1,0,0,-1,0,103.0193503)\"><path fill-rule=\"evenodd\" fill=\"#66cc99\" stroke=\"#555555\" stroke-width=\"0.00045310242015587644\" opacity=\"0.6\" d=\"M -0.0800475,51.5194203 L -0.0772209308218222,51.50839645 L -0.08456,51.49993 L -0.0882655,51.5027978 L -0.0971758,51.5045541 L -0.0981978947179276,51.51897395 L -0.0800475,51.5194203 z\" /></g></svg>"
      ],
      "text/plain": [
       "<shapely.geometry.polygon.Polygon at 0x7efe84a27b80>"
      ]
     },
     "execution_count": 6,
     "metadata": {},
     "output_type": "execute_result"
    }
   ],
   "source": [
    "# Plot the region around a GP practice\n",
    "gp_area.area"
   ]
  },
  {
   "cell_type": "markdown",
   "id": "b5e2f1c8",
   "metadata": {},
   "source": [
    "## Calculate walking distance times"
   ]
  },
  {
   "cell_type": "code",
   "execution_count": 7,
   "id": "49370d72",
   "metadata": {},
   "outputs": [
    {
     "name": "stderr",
     "output_type": "stream",
     "text": [
      "/usr/local/google/home/nfortescue/nhs_python/nhs_time_of_travel/nhstravel/gp.py:131: ShapelyDeprecationWarning: STRtree will be changed in 2.0.0 and will not be compatible with versions < 2.\n",
      "  diagram = STRtree(trimmed)\n"
     ]
    },
    {
     "name": "stdout",
     "output_type": "stream",
     "text": [
      "CPU times: user 844 ms, sys: 79 ms, total: 923 ms\n",
      "Wall time: 832 ms\n"
     ]
    },
    {
     "data": {
      "text/plain": [
       "<AxesSubplot:>"
      ]
     },
     "execution_count": 7,
     "metadata": {},
     "output_type": "execute_result"
    },
    {
     "data": {
      "image/png": "[encoded data removed]",
      "text/plain": [
       "<Figure size 640x480 with 1 Axes>"
      ]
     },
     "metadata": {},
     "output_type": "display_data"
    }
   ],
   "source": [
    "%%time\n",
    "result = gp_area.calculate_walking_distance_polys(G, radius_minutes=10)\n",
    "result['color'] = result.index\n",
    "result.plot(column = 'color')"
   ]
  },
  {
   "cell_type": "code",
   "execution_count": null,
   "id": "f1fe459d",
   "metadata": {},
   "outputs": [],
   "source": []
  }
 ],
 "metadata": {
  "kernelspec": {
   "display_name": "Python 3 (ipykernel)",
   "language": "python",
   "name": "python3"
  },
  "language_info": {
   "codemirror_mode": {
    "name": "ipython",
    "version": 3
   },
   "file_extension": ".py",
   "mimetype": "text/x-python",
   "name": "python",
   "nbconvert_exporter": "python",
   "pygments_lexer": "ipython3",
   "version": "3.10.8"
  }
 },
 "nbformat": 4,
 "nbformat_minor": 5
}
