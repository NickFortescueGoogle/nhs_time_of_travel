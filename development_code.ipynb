{
 "cells": [
  {
   "cell_type": "code",
   "execution_count": null,
   "metadata": {},
   "outputs": [],
   "source": [
    "import networkx as nx\n",
    "import osmnx as ox\n",
    "import geopandas as gpd\n",
    "import matplotlib.pyplot as plt\n",
    "from descartes import PolygonPatch\n",
    "from shapely.geometry import Point, LineString, Polygon\n",
    "from shapely.ops import cascaded_union\n",
    "import urllib.request\n",
    "import pandas as pd\n",
    "import zipfile\n",
    "import folium\n",
    "from geopy.geocoders import Nominatim\n",
    "from geopy.extra.rate_limiter import RateLimiter"
   ]
  },
  {
   "cell_type": "code",
   "execution_count": null,
   "metadata": {},
   "outputs": [],
   "source": [
    "# EPRACCUR GP Practice data ingestion\n",
    "#-----------------------------------------\n",
    "\n",
    "url = 'https://files.digital.nhs.uk/assets/ods/current/epraccur.zip'\n",
    "filehandle, _ = urllib.request.urlretrieve(url)\n",
    "zip_file_object = zipfile.ZipFile(filehandle, 'r')\n",
    "first_file = zip_file_object.namelist()[0]\n",
    "file = zip_file_object.open(first_file)\n",
    "content = file.read()\n",
    "csv_file = open('data/epraccur_data.csv', 'wb')\n",
    "csv_file.write(content)\n",
    "csv_file.close()\n",
    "header_list = [\"Organisation Code\", \"Name\", \"National Grouping\", \"High Level Health Geography\", \"Address line 1\", \"Address line 2\", \"Address line 3\", \n",
    "\"Address line 4\", \"Address line 5\",\"Postcode\",\"Open Date\",\"Close Date\",\"Status Code\",\"Organisation Sub-Type Code\",\"Commissioner\",\"Join Provider/Purchaser Date\",\n",
    "\"Left Provider/Purchaser Date\",\"Contact Telephone Number\", \"Null 1\", \"Null 2\", \"Null 3\", \"Amended Record Indicator\", \"Null 4\", \"Provider/Purchaser\",\n",
    "\"Null 5\", \"Prescribing Setting\", \"Null 6\"]\n",
    "\n",
    "# GP Practice Data Processing\n",
    "#-----------------------------------------\n",
    "gp_practice_df = pd.read_csv('data/epraccur_data.csv', names=header_list)\n",
    "gp_practice_df = gp_practice_df[(gp_practice_df[\"Status Code\"] == \"A\") & (gp_practice_df[\"Prescribing Setting\"] == 4) #----------- Selecting only Active and Standard GP Practices form the data\n",
    "& (gp_practice_df[\"Postcode\"].str.contains('CB1 |CB2 |CB3 |CB4 |CB5 '))].reset_index(drop = True) #----------- Central cambridge defined as having the following postcodes: CB1, CB2, CB3, CB4, CB5\n",
    "gp_practice_df['Full Address'] = gp_practice_df[['Address line 2', 'Address line 3', 'Address line 4',]].astype(str).agg(', '.join, axis=1)\n",
    "gp_practice_df['Full Address'] = gp_practice_df['Full Address'].str.title() + ', ' + gp_practice_df['Postcode']\n",
    "gp_practice_df['Full Address'] = gp_practice_df['Full Address'].str.replace('Nan', '').str.replace(' ,', ' ')\n",
    "gp_practice_df['Name'] = gp_practice_df['Name'].str.title()\n",
    "gp_practice_df_1 = gp_practice_df[['Organisation Code', 'Name', 'Full Address', 'Postcode', 'Contact Telephone Number']]"
   ]
  },
  {
   "cell_type": "code",
   "execution_count": null,
   "metadata": {},
   "outputs": [],
   "source": [
    "\n",
    "# Geolocation of GP practices in Cambridge\n",
    "#-----------------------------------------\n",
    "gp_practice_df_saved = pd.read_csv('data/cambridge_gp_practices.csv', index_col = 0)\n",
    "new_list = list(gp_practice_df_1['Organisation Code'])\n",
    "saved_list = list(gp_practice_df_saved['Organisation Code'])\n",
    "new_orgs = list(set(new_list) - (set(saved_list)))\n",
    "if new_orgs:\n",
    "    geolocator = Nominatim(user_agent=\"open_access_nhs\")\n",
    "    geocode = RateLimiter(geolocator.geocode, min_delay_seconds=1)\n",
    "    gp_practice_df_1[\"location\"] = gp_practice_df_1[\"Postcode\"].apply(geolocator.geocode)\n",
    "    gp_practice_df_1[\"Point\"] = gp_practice_df_1[\"location\"].apply(lambda loc: tuple(loc.point) if loc else None)\n",
    "    gp_practice_df_1[['Latitude', 'Longitude', 'Altitude']] = gp_practice_df_1['Point'].to_list()\n",
    "    gp_practice_df_2 = gp_practice_df_1[[\"Organisation Code\",\"Name\", \"Full Address\", \"Postcode\", \"Contact Telephone Number\", \"Latitude\", \"Longitude\"]]\n",
    "    gp_practice_df_2.to_csv('data/cambridge_gp_practices.csv')\n",
    "else:\n",
    "    gp_practice_df_2 = gp_practice_df_saved.copy()\n",
    "    print('No new cambridge GP practices')"
   ]
  },
  {
   "cell_type": "code",
   "execution_count": null,
   "metadata": {},
   "outputs": [],
   "source": [
    "gp_practice_df_2"
   ]
  },
  {
   "cell_type": "code",
   "execution_count": null,
   "metadata": {},
   "outputs": [],
   "source": [
    "# Map visulation of Cambridge GP practices\n",
    "#-----------------------------------------\n",
    "frame = folium.Figure(width=500, height=500)\n",
    "folium_fig = folium.Map(\n",
    "    location=[52.2, 0.12],\n",
    "    tiles=\"cartodbpositron\",\n",
    "    zoom_start=12).add_to(frame)\n",
    "for code, name, address, number, lat, lon in zip(gp_practice_df_2['Organisation Code'],\n",
    "gp_practice_df_2['Name'],\n",
    "gp_practice_df_2['Full Address'],\n",
    "gp_practice_df_2['Contact Telephone Number'],\n",
    "gp_practice_df_2['Latitude'],\n",
    "gp_practice_df_2['Longitude']):\n",
    "    folium.Marker(\n",
    "        [lat, lon],\n",
    "        popup = folium.Popup('<b>' + 'Name: ' + '</b>'  + str(name) + '<br>'\n",
    "        '<b>' + 'GP Practice Code: ' + '</b>' + str(code) + '<br>'\n",
    "        '<b>' + 'Address: ' + '</b>' + str(address) + '<br>'\n",
    "        '<b>' + 'Telephone Number: ' + '</b>' + str(number) + '<br>',\n",
    "        max_width=len(address)*20),\n",
    "        icon=folium.Icon(color=\"darkblue\", prefix='fa', icon=\"fa-medkit\"),\n",
    "        ).add_to(folium_fig)\n",
    "folium_fig "
   ]
  },
  {
   "cell_type": "code",
   "execution_count": null,
   "metadata": {},
   "outputs": [],
   "source": [
    "#Time of travel (walking) analysis for GP practices in central Cambridge (7000 meters from centre)\n",
    "place = \"Cambridge, England\"\n",
    "mode = \"walk\"\n",
    "G = ox.graph_from_address(place, dist = 5000, simplify=True, network_type=mode)\n",
    "fig, ax = ox.plot_graph(G);"
   ]
  },
  {
   "cell_type": "code",
   "execution_count": null,
   "metadata": {},
   "outputs": [],
   "source": [
    "#gp_practice_df_2 = gp_practice_df_2.head(n=3)\n",
    "# gp_practice_df_2"
   ]
  },
  {
   "cell_type": "code",
   "execution_count": null,
   "metadata": {},
   "outputs": [],
   "source": [
    "\n",
    "point_of_interest = ox.distance.nearest_nodes(G, X = gp_practice_df_2['Longitude'], Y=gp_practice_df_2['Latitude']) # X = longitude, Y = Latitude #------ nearest edge\n"
   ]
  },
  {
   "cell_type": "code",
   "execution_count": null,
   "metadata": {},
   "outputs": [],
   "source": [
    "# Trip time in Mintues\n",
    "trip_times = [5,10,20]\n",
    "\n",
    "# walking speed in km/hour\n",
    "travel_speed = 4.5\n",
    "\n",
    "# add an edge attribute for time in minutes required to traverse each edge\n",
    "meters_per_minute = travel_speed * 1000 / 60 #km per hour to m per minute\n",
    "for u, v, k, data in G.edges(data=True, keys=True):\n",
    "    data['time'] = data['length'] / meters_per_minute\n"
   ]
  },
  {
   "cell_type": "code",
   "execution_count": null,
   "metadata": {},
   "outputs": [],
   "source": [
    "# 1 - get one color for each isochrone\n",
    "iso_colors = ox.plot.get_colors(n=len(trip_times), cmap='Reds', start=0.3, return_hex=True)\n",
    "# 2 - color the nodes according to isochrone then plot the street network\n",
    "node_colors = {}\n",
    "for trip_time, color in zip(sorted(trip_times, reverse=True), iso_colors):\n",
    "    for points in point_of_interest:\n",
    "        subgraph = nx.ego_graph(G, points, radius=trip_time, distance='time')\n",
    "        for node in subgraph.nodes():\n",
    "            node_colors[node] = color\n",
    "nc = [node_colors[node] if node in node_colors else 'none' for node in G.nodes()]\n",
    "ns = [10 if node in node_colors else 0 for node in G.nodes()]\n",
    "fig, ax = ox.plot_graph(G, node_color=nc, node_size=ns, node_alpha=0.8, node_zorder=2)"
   ]
  },
  {
   "cell_type": "code",
   "execution_count": null,
   "metadata": {},
   "outputs": [],
   "source": [
    "# make the isochrone polygons\n",
    "isochrone_polys = []\n",
    "for trip_time in sorted(trip_times, reverse=True):\n",
    "    isochrone_polys_sub = []\n",
    "    for points in point_of_interest:\n",
    "        subgraph = nx.ego_graph(G, points, radius=trip_time, distance='time')\n",
    "        node_points = [Point((data['x'], data['y'])) for node, data in subgraph.nodes(data=True)]\n",
    "        bounding_poly = gpd.GeoSeries(node_points).unary_union.convex_hull\n",
    "        isochrone_polys_sub.append(bounding_poly)\n",
    "    isochrone_polys.append(isochrone_polys_sub)"
   ]
  },
  {
   "cell_type": "code",
   "execution_count": null,
   "metadata": {},
   "outputs": [],
   "source": [
    "# plot the network then add isochrones as colored descartes polygon patches\n",
    "fig, ax = ox.plot_graph(G, show=False, close=False, edge_color='k', edge_alpha=0.2, node_color='none')\n",
    "for polygon, fc in zip(isochrone_polys, iso_colors):\n",
    "    for subpolygon in polygon:\n",
    "        patch = PolygonPatch(subpolygon, fc=fc, ec='none', alpha=0.6, zorder=-1)\n",
    "        ax.add_patch(patch)\n",
    "plt.show()"
   ]
  },
  {
   "cell_type": "code",
   "execution_count": null,
   "metadata": {},
   "outputs": [],
   "source": [
    "graph_map = ox.plot_graph_folium(G, folium_fig, color=\"#425563\", opacity=0.1, weight=1)"
   ]
  },
  {
   "cell_type": "code",
   "execution_count": null,
   "metadata": {},
   "outputs": [],
   "source": [
    "style_geojson = [\n",
    "{'shape_name': '20 min walk','shape_fillColor': '#003087'},\n",
    "{'shape_name': '10 min walk', 'shape_fillColor': '#005EB8'},\n",
    "{'shape_name': '5 min walk', 'shape_fillColor': '#41B6E6'}]\n",
    "gdf_index = list(gp_practice_df_2.index)\n",
    "for polygon, style in zip(isochrone_polys, style_geojson):\n",
    "     gdf = gpd.GeoDataFrame({\"GP Practice\": gdf_index}, geometry= polygon)\n",
    "     polygon_json = list(gdf['geometry'])\n",
    "     geojson = gpd.GeoSeries(cascaded_union(polygon_json)).to_json()\n",
    "     fillColor = style['shape_fillColor']\n",
    "     shape_name = style['shape_name']\n",
    "     folium.GeoJson(geojson, name = shape_name, style_function = lambda x, fillColor = fillColor: {\n",
    "            \"fillColor\": fillColor,\n",
    "            \"name\":  shape_name,\n",
    "            \"weight\": 1,\n",
    "            \"fillOpacity\": 0.5,\n",
    "            \"color\": \"#000000\"\n",
    "            }).add_to(folium_fig)\n",
    "     "
   ]
  },
  {
   "cell_type": "code",
   "execution_count": null,
   "metadata": {},
   "outputs": [],
   "source": [
    "folium.LayerControl().add_to(folium_fig)\n",
    "folium_fig"
   ]
  }
 ],
 "metadata": {
  "interpreter": {
   "hash": "292c795e24700ffeb49481d87674b4a2462b1f5926d60159546f48d450d30bc4"
  },
  "kernelspec": {
   "display_name": "Python 3.9.4 64-bit",
   "language": "python",
   "name": "python3"
  },
  "language_info": {
   "codemirror_mode": {
    "name": "ipython",
    "version": 3
   },
   "file_extension": ".py",
   "mimetype": "text/x-python",
   "name": "python",
   "nbconvert_exporter": "python",
   "pygments_lexer": "ipython3",
   "version": "3.9.7"
  },
  "orig_nbformat": 4
 },
 "nbformat": 4,
 "nbformat_minor": 2
}
